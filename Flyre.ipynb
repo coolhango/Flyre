{
 "cells": [
  {
   "cell_type": "code",
   "execution_count": null,
   "id": "415ca9a5-0b89-4be8-a9ef-9cab2656bb4f",
   "metadata": {},
   "outputs": [
    {
     "name": "stdout",
     "output_type": "stream",
     "text": [
      "pygame 2.5.2 (SDL 2.28.3, Python 3.12.2)\n",
      "Hello from the pygame community. https://www.pygame.org/contribute.html\n",
      "Assets: /Users/gedeonkoh/Library/Mobile Documents/com~apple~CloudDocs/Game Engine/Flyre/src/assets\n",
      "Images: /Users/gedeonkoh/Library/Mobile Documents/com~apple~CloudDocs/Game Engine/Flyre/src/assets/images\n",
      "Load /Users/gedeonkoh/Library/Mobile Documents/com~apple~CloudDocs/Game Engine/Flyre/src/assets/images/bomb.png\n",
      "Load /Users/gedeonkoh/Library/Mobile Documents/com~apple~CloudDocs/Game Engine/Flyre/src/assets/images/planet19.png\n",
      "Load /Users/gedeonkoh/Library/Mobile Documents/com~apple~CloudDocs/Game Engine/Flyre/src/assets/images/planet18.png\n",
      "Load /Users/gedeonkoh/Library/Mobile Documents/com~apple~CloudDocs/Game Engine/Flyre/src/assets/images/planet9.png\n",
      "Load /Users/gedeonkoh/Library/Mobile Documents/com~apple~CloudDocs/Game Engine/Flyre/src/assets/images/planet8.png\n",
      "Load /Users/gedeonkoh/Library/Mobile Documents/com~apple~CloudDocs/Game Engine/Flyre/src/assets/images/planet20.png\n",
      "Load /Users/gedeonkoh/Library/Mobile Documents/com~apple~CloudDocs/Game Engine/Flyre/src/assets/images/planet10.png\n",
      "Load /Users/gedeonkoh/Library/Mobile Documents/com~apple~CloudDocs/Game Engine/Flyre/src/assets/images/planet6.png\n",
      "Load /Users/gedeonkoh/Library/Mobile Documents/com~apple~CloudDocs/Game Engine/Flyre/src/assets/images/planet7.png\n",
      "Load /Users/gedeonkoh/Library/Mobile Documents/com~apple~CloudDocs/Game Engine/Flyre/src/assets/images/planet11.png\n",
      "Load /Users/gedeonkoh/Library/Mobile Documents/com~apple~CloudDocs/Game Engine/Flyre/src/assets/images/planet13.png\n",
      "Load /Users/gedeonkoh/Library/Mobile Documents/com~apple~CloudDocs/Game Engine/Flyre/src/assets/images/planet5.png\n",
      "Load /Users/gedeonkoh/Library/Mobile Documents/com~apple~CloudDocs/Game Engine/Flyre/src/assets/images/planet4.png\n",
      "Load /Users/gedeonkoh/Library/Mobile Documents/com~apple~CloudDocs/Game Engine/Flyre/src/assets/images/planet12.png\n",
      "Load /Users/gedeonkoh/Library/Mobile Documents/com~apple~CloudDocs/Game Engine/Flyre/src/assets/images/planet16.png\n",
      "Load /Users/gedeonkoh/Library/Mobile Documents/com~apple~CloudDocs/Game Engine/Flyre/src/assets/images/planet0.png\n",
      "Load /Users/gedeonkoh/Library/Mobile Documents/com~apple~CloudDocs/Game Engine/Flyre/src/assets/images/planet1.png\n",
      "Load /Users/gedeonkoh/Library/Mobile Documents/com~apple~CloudDocs/Game Engine/Flyre/src/assets/images/planet17.png\n",
      "Load /Users/gedeonkoh/Library/Mobile Documents/com~apple~CloudDocs/Game Engine/Flyre/src/assets/images/planet15.png\n",
      "Load /Users/gedeonkoh/Library/Mobile Documents/com~apple~CloudDocs/Game Engine/Flyre/src/assets/images/planet3.png\n",
      "Load /Users/gedeonkoh/Library/Mobile Documents/com~apple~CloudDocs/Game Engine/Flyre/src/assets/images/planet2.png\n",
      "Load /Users/gedeonkoh/Library/Mobile Documents/com~apple~CloudDocs/Game Engine/Flyre/src/assets/images/planet14.png\n",
      "Load /Users/gedeonkoh/Library/Mobile Documents/com~apple~CloudDocs/Game Engine/Flyre/src/assets/images/explosion1.png\n",
      "Load /Users/gedeonkoh/Library/Mobile Documents/com~apple~CloudDocs/Game Engine/Flyre/src/assets/images/spaceships.png\n",
      "Load /Users/gedeonkoh/Library/Mobile Documents/com~apple~CloudDocs/Game Engine/Flyre/src/assets/images/inforect.png\n",
      "Load /Users/gedeonkoh/Library/Mobile Documents/com~apple~CloudDocs/Game Engine/Flyre/src/assets/images/sprites.png\n",
      "Loading done in 3.59s!\n"
     ]
    }
   ],
   "source": [
    "# Last Updated: 24 April 2024, 9.15PM.\n",
    "# Copyright © 2024 Gedeon Koh All rights reserved.\n",
    "# No part of this publication may be reproduced, distributed, or transmitted in any form or by any means, including photocopying, recording, or other electronic or mechanical methods, without the prior written permission of the publisher, except in the case of brief quotations embodied in reviews and certain other non-commercial uses permitted by copyright law.\n",
    "# THE SOFTWARE IS PROVIDED “AS IS”, WITHOUT WARRANTY OF ANY KIND, EXPRESS OR IMPLIED, INCLUDING BUT NOT LIMITED TO THE WARRANTIES OF MERCHANTABILITY, FITNESS FOR A PARTICULAR PURPOSE AND NONINFRINGEMENT. IN NO EVENT SHALL THE AUTHOR OR COPYRIGHT HOLDER BE LIABLE FOR ANY CLAIM, DAMAGES OR OTHER LIABILITY, WHETHER IN AN ACTION OF CONTRACT, TORT OR OTHERWISE, ARISING FROM, OUT OF OR IN CONNECTION WITH THE SOFTWARE OR THE USE OR OTHER DEALINGS IN THE SOFTWARE.\n",
    "# Use of this program for pranks or any malicious activities is strictly prohibited. Any unauthorized use or dissemination of the results produced by this program is unethical and may result in legal consequences.\n",
    "# This code have been tested throughly. Please inform the operator or author if there is any mistake or error in the code.\n",
    "# Any damage, disciplinary actions or death from this material is not the publisher's or owner's fault.\n",
    "# Run and use this program this AT YOUR OWN RISK.\n",
    "# Version 0.1\n",
    "\n",
    "from src.engine import SIZE, App, IntegerScaleScreen\n",
    "from src.states.loading import LoadingState\n",
    "\n",
    "if __name__ == \"__main__\":\n",
    "    App(LoadingState, IntegerScaleScreen(SIZE)).run()\n"
   ]
  }
 ],
 "metadata": {
  "kernelspec": {
   "display_name": "Python 3 (ipykernel)",
   "language": "python",
   "name": "python3"
  },
  "language_info": {
   "codemirror_mode": {
    "name": "ipython",
    "version": 3
   },
   "file_extension": ".py",
   "mimetype": "text/x-python",
   "name": "python",
   "nbconvert_exporter": "python",
   "pygments_lexer": "ipython3",
   "version": "3.12.2"
  }
 },
 "nbformat": 4,
 "nbformat_minor": 5
}
